{
 "cells": [
  {
   "cell_type": "code",
   "execution_count": 1,
   "metadata": {},
   "outputs": [],
   "source": [
    "import numpy as np"
   ]
  },
  {
   "cell_type": "markdown",
   "metadata": {},
   "source": [
    "# The Perceptron"
   ]
  },
  {
   "cell_type": "code",
   "execution_count": 61,
   "metadata": {},
   "outputs": [],
   "source": [
    "# Perceptron Class\n",
    "\n",
    "class Perceptron:\n",
    "    def __init__(self, inputs, targets):\n",
    "        # setting dimension of matrix\n",
    "        nIn = inputs.shape[1] if np.ndim(inputs) > 1 else 1 # number of features\n",
    "        nOut = targets.shape[1] if np.ndim(targets) > 1 else 1 # number of targets\n",
    "                \n",
    "        # initialize weights as matrix of size (Input nodes + 1(for bias), Number of neurons)\n",
    "        self.weights = np.random.rand(nIn+1, nOut)*0.1-0.05\n",
    "        \n",
    "        # number of records\n",
    "        self.nData = inputs.shape[0]\n",
    "    \n",
    "    def train(self, inputs, targets, learningRate, epochs):\n",
    "        # adding bias node inputs\n",
    "        inputs = np.concatenate((inputs, -np.ones((self.nData, 1))), axis=1)\n",
    "        \n",
    "        # trainging loop\n",
    "        for e in range(epochs):\n",
    "            activations = self.forward(inputs)\n",
    "            \n",
    "            # updation of weights\n",
    "            self.weights -= learningRate * np.dot(inputs.T, activations - targets)\n",
    "    \n",
    "    def forward(self, inputs):\n",
    "        activations = np.dot(inputs, self.weights)\n",
    "        \n",
    "        # using activation threshold to return matrix with 1 where true\n",
    "        return np.where(activations > 0, 1, 0)\n",
    "    \n",
    "    def predict(self, inputs):\n",
    "        inputs = np.concatenate((inputs, -np.ones((self.nData, 1))), axis=1)\n",
    "        outputs = np.dot(inputs, self.weights)\n",
    "        \n",
    "        print('Predictions:')\n",
    "        print(np.where(outputs > 0,1,0))\n",
    "    \n",
    "    def evaluate(self, inputs, targets):\n",
    "        inputs = np.concatenate((inputs, -np.ones((self.nData, 1))), axis=1)\n",
    "        outputs = np.dot(inputs, self.weights)\n",
    "        \n",
    "        nClasses = np.shape(targets)[1]\n",
    "\n",
    "        if nClasses == 1:\n",
    "            nClasses = 2\n",
    "            outputs = np.where(outputs > 0,1,0)\n",
    "        else:\n",
    "            # 1-of-N encoding\n",
    "            outputs = np.argmax(outputs,1)\n",
    "            targets = np.argmax(targets,1)\n",
    "        \n",
    "        cm = np.zeros((nClasses,nClasses))\n",
    "        for i in range(nClasses):\n",
    "            for j in range(nClasses):\n",
    "                cm[i,j] = np.sum(np.where(outputs == i, 1, 0) * np.where(targets == j, 1, 0))\n",
    "        \n",
    "        print('Confusion Matrix:')\n",
    "        print(cm)\n",
    "        print('Score:', np.trace(cm)/np.sum(cm))"
   ]
  },
  {
   "cell_type": "code",
   "execution_count": 62,
   "metadata": {},
   "outputs": [
    {
     "name": "stdout",
     "output_type": "stream",
     "text": [
      "Predictions:\n",
      "[[0]\n",
      " [1]\n",
      " [1]\n",
      " [1]]\n",
      "Confusion Matrix:\n",
      "[[1. 0.]\n",
      " [0. 3.]]\n",
      "Score: 1.0\n"
     ]
    }
   ],
   "source": [
    "X = np.array([[0,0], [0,1], [1,0], [1,1]])\n",
    "y = np.array([[0], [1], [1], [1]])\n",
    "\n",
    "p = Perceptron(X, y)\n",
    "p.train(X, y, 0.25, 10)\n",
    "p.predict(X)\n",
    "p.evaluate(X, y)"
   ]
  },
  {
   "cell_type": "code",
   "execution_count": null,
   "metadata": {},
   "outputs": [],
   "source": []
  }
 ],
 "metadata": {
  "kernelspec": {
   "display_name": "Python 3",
   "language": "python",
   "name": "python3"
  },
  "language_info": {
   "codemirror_mode": {
    "name": "ipython",
    "version": 3
   },
   "file_extension": ".py",
   "mimetype": "text/x-python",
   "name": "python",
   "nbconvert_exporter": "python",
   "pygments_lexer": "ipython3",
   "version": "3.8.5"
  }
 },
 "nbformat": 4,
 "nbformat_minor": 4
}
